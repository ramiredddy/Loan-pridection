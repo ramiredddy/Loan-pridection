{
  "nbformat": 4,
  "nbformat_minor": 0,
  "metadata": {
    "colab": {
      "provenance": [],
      "authorship_tag": "ABX9TyMCowGyKF8G9g3a6VydfHDA",
      "include_colab_link": true
    },
    "kernelspec": {
      "name": "python3",
      "display_name": "Python 3"
    },
    "language_info": {
      "name": "python"
    }
  },
  "cells": [
    {
      "cell_type": "markdown",
      "metadata": {
        "id": "view-in-github",
        "colab_type": "text"
      },
      "source": [
        "<a href=\"https://colab.research.google.com/github/ramiredddy/Loan-pridection/blob/main/Untitled21.ipynb\" target=\"_parent\"><img src=\"https://colab.research.google.com/assets/colab-badge.svg\" alt=\"Open In Colab\"/></a>"
      ]
    },
    {
      "cell_type": "code",
      "execution_count": 11,
      "metadata": {
        "colab": {
          "base_uri": "https://localhost:8080/"
        },
        "id": "DBAUVKmWT1S0",
        "outputId": "c5210570-7a44-4d55-b6ea-93a162516e96"
      },
      "outputs": [
        {
          "output_type": "stream",
          "name": "stdout",
          "text": [
            "Requirement already satisfied: sumpy in /usr/local/lib/python3.10/dist-packages (2022.1)\n",
            "Requirement already satisfied: pytools>=2021.1.1 in /usr/local/lib/python3.10/dist-packages (from sumpy) (2024.1.14)\n",
            "Requirement already satisfied: loopy>=2021.1 in /usr/local/lib/python3.10/dist-packages (from sumpy) (2024.1)\n",
            "Requirement already satisfied: boxtree>=2018.1 in /usr/local/lib/python3.10/dist-packages (from sumpy) (2023.1)\n",
            "Requirement already satisfied: arraycontext in /usr/local/lib/python3.10/dist-packages (from sumpy) (2021.1)\n",
            "Requirement already satisfied: pyrsistent>=0.16.0 in /usr/local/lib/python3.10/dist-packages (from sumpy) (0.20.0)\n",
            "Requirement already satisfied: sympy>=0.7.2 in /usr/local/lib/python3.10/dist-packages (from sumpy) (1.13.2)\n",
            "Requirement already satisfied: pymbolic>=2021.1 in /usr/local/lib/python3.10/dist-packages (from sumpy) (2022.2)\n",
            "Requirement already satisfied: pyvkfft>=2022.1 in /usr/local/lib/python3.10/dist-packages (from sumpy) (2024.1.4)\n",
            "Requirement already satisfied: Mako>=0.7.3 in /usr/local/lib/python3.10/dist-packages (from boxtree>=2018.1->sumpy) (1.3.5)\n",
            "Requirement already satisfied: pyopencl>=2018.2.2 in /usr/local/lib/python3.10/dist-packages (from boxtree>=2018.1->sumpy) (2024.2.7)\n",
            "Requirement already satisfied: cgen>=2013.1.2 in /usr/local/lib/python3.10/dist-packages (from boxtree>=2018.1->sumpy) (2020.1)\n",
            "Requirement already satisfied: numpy in /usr/local/lib/python3.10/dist-packages (from arraycontext->sumpy) (1.26.4)\n",
            "Requirement already satisfied: pytest>=2.3 in /usr/local/lib/python3.10/dist-packages (from arraycontext->sumpy) (7.4.4)\n",
            "Requirement already satisfied: genpy>=2016.1.2 in /usr/local/lib/python3.10/dist-packages (from loopy>=2021.1->sumpy) (2022.1)\n",
            "Requirement already satisfied: islpy>=2019.1 in /usr/local/lib/python3.10/dist-packages (from loopy>=2021.1->sumpy) (2024.2)\n",
            "Requirement already satisfied: codepy>=2017.1 in /usr/local/lib/python3.10/dist-packages (from loopy>=2021.1->sumpy) (2023.1)\n",
            "Requirement already satisfied: colorama in /usr/local/lib/python3.10/dist-packages (from loopy>=2021.1->sumpy) (0.4.6)\n",
            "Requirement already satisfied: immutables in /usr/local/lib/python3.10/dist-packages (from loopy>=2021.1->sumpy) (0.20)\n",
            "Requirement already satisfied: typing-extensions in /usr/local/lib/python3.10/dist-packages (from loopy>=2021.1->sumpy) (4.12.2)\n",
            "Requirement already satisfied: platformdirs>=2.2 in /usr/local/lib/python3.10/dist-packages (from pytools>=2021.1.1->sumpy) (4.3.2)\n",
            "Requirement already satisfied: psutil in /usr/local/lib/python3.10/dist-packages (from pyvkfft>=2022.1->sumpy) (5.9.5)\n",
            "Requirement already satisfied: mpmath<1.4,>=1.1.0 in /usr/local/lib/python3.10/dist-packages (from sympy>=0.7.2->sumpy) (1.3.0)\n",
            "Requirement already satisfied: MarkupSafe>=0.9.2 in /usr/local/lib/python3.10/dist-packages (from Mako>=0.7.3->boxtree>=2018.1->sumpy) (2.1.5)\n",
            "Requirement already satisfied: iniconfig in /usr/local/lib/python3.10/dist-packages (from pytest>=2.3->arraycontext->sumpy) (2.0.0)\n",
            "Requirement already satisfied: packaging in /usr/local/lib/python3.10/dist-packages (from pytest>=2.3->arraycontext->sumpy) (24.1)\n",
            "Requirement already satisfied: pluggy<2.0,>=0.12 in /usr/local/lib/python3.10/dist-packages (from pytest>=2.3->arraycontext->sumpy) (1.5.0)\n",
            "Requirement already satisfied: exceptiongroup>=1.0.0rc8 in /usr/local/lib/python3.10/dist-packages (from pytest>=2.3->arraycontext->sumpy) (1.2.2)\n",
            "Requirement already satisfied: tomli>=1.0.0 in /usr/local/lib/python3.10/dist-packages (from pytest>=2.3->arraycontext->sumpy) (2.0.1)\n"
          ]
        }
      ],
      "source": [
        "pip install sumpy\n"
      ]
    },
    {
      "cell_type": "code",
      "source": [
        "import sympy as sp\n",
        "\n",
        "# Define the symbolic variables\n",
        "x1, x2, u = sp.symbols('x1 x2 u')\n",
        "x1_dot, x2_dot = sp.symbols('x1_dot x2_dot')\n",
        "\n",
        "# Define the differential equations\n",
        "x1_dot = -x1 + 2*x1**3 + x2 + 4*u\n",
        "x2_dot = -x1 - x2 + 2*u\n",
        "\n",
        "x1_dot, x2_dot\n"
      ],
      "metadata": {
        "colab": {
          "base_uri": "https://localhost:8080/"
        },
        "id": "obsJ7WckU3b8",
        "outputId": "0f76b7de-50cf-4655-9705-eab9fc89dd26"
      },
      "execution_count": 12,
      "outputs": [
        {
          "output_type": "execute_result",
          "data": {
            "text/plain": [
              "(4*u + 2*x1**3 - x1 + x2, 2*u - x1 - x2)"
            ]
          },
          "metadata": {},
          "execution_count": 12
        }
      ]
    },
    {
      "cell_type": "code",
      "source": [
        "def main_function(): # Don't change anything in this function\n",
        "    # Find equilibrium points\n",
        "    eq_points = find_equilibrium_points()\n",
        "\n",
        "    if not eq_points:\n",
        "        print(\"No equilibrium points found.\")\n",
        "        return None, None, None, None, None, None\n",
        "\n",
        "    # Find Jacobian for getting A and B matrices\n",
        "    jacobians_A, jacobians_B = find_A_B_matrices(eq_points)\n",
        "\n",
        "    # For finding eigenvalues and stability of the given equation\n",
        "    eigen_values, stability = find_eigen_values(jacobians_A)\n",
        "\n",
        "\n",
        "    # Compute the LQR gain matrix K\n",
        "    K = compute_lqr_gain(jacobians_A, jacobians_B)\n",
        "\n",
        "    return eq_points, jacobians_A,  eigen_values, stability, K"
      ],
      "metadata": {
        "id": "HlXcZ6QjWxMu"
      },
      "execution_count": 13,
      "outputs": []
    },
    {
      "cell_type": "code",
      "source": [
        "# Define the function to find equilibrium points\n",
        "def find_equilibrium_points():\n",
        "    '''\n",
        "    1. Substitute input(u) = 0 in both equations for finding equilibrium points.\n",
        "    2. Equate x1_dot, x2_dot equal to zero for finding equilibrium points.\n",
        "    3. Solve the x1_dot, x2_dot equations for the unknown variables and save the value to the variable \"equi_points\".\n",
        "    '''\n",
        "    # Substitute u = 0 in the differential equations\n",
        "    x1_dot_zero_u = x1_dot.subs(u, 0)\n",
        "    x2_dot_zero_u = x2_dot.subs(u, 0)\n",
        "\n",
        "    # Solve x1_dot and x2_dot equations by setting them to 0\n",
        "    equi_points = sp.solve([x1_dot_zero_u, x2_dot_zero_u], (x1, x2))\n",
        "\n",
        "    return equi_points\n",
        "\n",
        "# Call the function to check equilibrium points\n",
        "find_equilibrium_points()\n"
      ],
      "metadata": {
        "colab": {
          "base_uri": "https://localhost:8080/"
        },
        "id": "N4sanEL1U74j",
        "outputId": "228e8c57-21e9-4c7b-afed-64dd91bcff4d"
      },
      "execution_count": 14,
      "outputs": [
        {
          "output_type": "execute_result",
          "data": {
            "text/plain": [
              "[(-1, 1), (0, 0), (1, -1)]"
            ]
          },
          "metadata": {},
          "execution_count": 14
        }
      ]
    },
    {
      "cell_type": "code",
      "source": [
        "def find_A_B_matrices(eq_points):\n",
        "    '''\n",
        "    1. Find the Jacobian of A and B matrices (You can use diff() & Matrix() functions of sympy)\n",
        "    2. Substitute every equilibrium point that you have already found in the find_equilibrium_points() function\n",
        "    3. After substituting the equilibrium points, save the Jacobian matrices A and B as A_matrices, B_matrices\n",
        "    '''\n",
        "    # Jacobian matrix A (with respect to state variables x1, x2)\n",
        "    A_matrix = sp.Matrix([\n",
        "        [sp.diff(x1_dot, x1), sp.diff(x1_dot, x2)],\n",
        "        [sp.diff(x2_dot, x1), sp.diff(x2_dot, x2)]\n",
        "    ])\n",
        "\n",
        "    # Jacobian matrix B (with respect to input u)\n",
        "    B_matrix = sp.Matrix([\n",
        "        [sp.diff(x1_dot, u)],\n",
        "        [sp.diff(x2_dot, u)]\n",
        "    ])\n",
        "\n",
        "    A_matrices, B_matrices = [], []\n",
        "\n",
        "    # Loop through each equilibrium point\n",
        "    for eq in eq_points:\n",
        "        # Substitute the equilibrium points into the Jacobian matrices\n",
        "        A_sub = A_matrix.subs([(x1, eq[0]), (x2, eq[1])])\n",
        "        B_sub = B_matrix.subs([(x1, eq[0]), (x2, eq[1])])\n",
        "\n",
        "        # Append the results to the lists\n",
        "        A_matrices.append(A_sub)\n",
        "        B_matrices.append(B_sub)\n",
        "\n",
        "    return A_matrices, B_matrices\n"
      ],
      "metadata": {
        "id": "od5jI6K2ZQy0"
      },
      "execution_count": 15,
      "outputs": []
    },
    {
      "cell_type": "code",
      "source": [
        "def find_eigen_values(A_matrices):\n",
        "    '''\n",
        "    1. Find the eigenvalues of all A_matrices (You can use the eigenvals() function of sympy) and append them to the 'eigen_values' list.\n",
        "    2. With the eigenvalues, determine whether the system is stable or not:\n",
        "       - Append 'Stable' to the 'stability' list if all eigenvalues have negative real parts.\n",
        "       - Otherwise, append 'Unstable' to the 'stability' list.\n",
        "    '''\n",
        "\n",
        "    eigen_values = []\n",
        "    stability = []\n",
        "\n",
        "    for A_matrix in A_matrices:\n",
        "        # Calculate eigenvalues using the eigenvals function of SymPy\n",
        "        eigenvals = A_matrix.eigenvals()\n",
        "        eigen_values.append(eigenvals)\n",
        "\n",
        "        # Check the real part of each eigenvalue\n",
        "        is_stable = all(val.as_real_imag()[0] < 0 for val in eigenvals.keys())\n",
        "\n",
        "        # Append 'Stable' or 'Unstable' based on the eigenvalue check\n",
        "        if is_stable:\n",
        "            stability.append('Stable')\n",
        "        else:\n",
        "            stability.append('Unstable')\n",
        "\n",
        "    return eigen_values, stability\n"
      ],
      "metadata": {
        "id": "IngCQklyZ7hE"
      },
      "execution_count": 16,
      "outputs": []
    },
    {
      "cell_type": "code",
      "source": [
        "pip install control\n"
      ],
      "metadata": {
        "colab": {
          "base_uri": "https://localhost:8080/"
        },
        "id": "C0rjRknQapUa",
        "outputId": "742da5f3-8ac8-4044-fbf9-fa30b25dba12"
      },
      "execution_count": 17,
      "outputs": [
        {
          "output_type": "stream",
          "name": "stdout",
          "text": [
            "Requirement already satisfied: control in /usr/local/lib/python3.10/dist-packages (0.10.1)\n",
            "Requirement already satisfied: numpy>=1.23 in /usr/local/lib/python3.10/dist-packages (from control) (1.26.4)\n",
            "Requirement already satisfied: scipy>=1.8 in /usr/local/lib/python3.10/dist-packages (from control) (1.13.1)\n",
            "Requirement already satisfied: matplotlib>=3.6 in /usr/local/lib/python3.10/dist-packages (from control) (3.7.1)\n",
            "Requirement already satisfied: contourpy>=1.0.1 in /usr/local/lib/python3.10/dist-packages (from matplotlib>=3.6->control) (1.3.0)\n",
            "Requirement already satisfied: cycler>=0.10 in /usr/local/lib/python3.10/dist-packages (from matplotlib>=3.6->control) (0.12.1)\n",
            "Requirement already satisfied: fonttools>=4.22.0 in /usr/local/lib/python3.10/dist-packages (from matplotlib>=3.6->control) (4.53.1)\n",
            "Requirement already satisfied: kiwisolver>=1.0.1 in /usr/local/lib/python3.10/dist-packages (from matplotlib>=3.6->control) (1.4.7)\n",
            "Requirement already satisfied: packaging>=20.0 in /usr/local/lib/python3.10/dist-packages (from matplotlib>=3.6->control) (24.1)\n",
            "Requirement already satisfied: pillow>=6.2.0 in /usr/local/lib/python3.10/dist-packages (from matplotlib>=3.6->control) (9.4.0)\n",
            "Requirement already satisfied: pyparsing>=2.3.1 in /usr/local/lib/python3.10/dist-packages (from matplotlib>=3.6->control) (3.1.4)\n",
            "Requirement already satisfied: python-dateutil>=2.7 in /usr/local/lib/python3.10/dist-packages (from matplotlib>=3.6->control) (2.8.2)\n",
            "Requirement already satisfied: six>=1.5 in /usr/local/lib/python3.10/dist-packages (from python-dateutil>=2.7->matplotlib>=3.6->control) (1.16.0)\n"
          ]
        }
      ]
    },
    {
      "cell_type": "code",
      "source": [
        "import numpy as np\n",
        "import control as ctrl  # The control library is used for LQR calculation\n",
        "\n",
        "def compute_lqr_gain(jacobians_A, jacobians_B):\n",
        "    K = 0\n",
        "    '''\n",
        "    This function computes the LQR gain matrix K.\n",
        "    1. Use the Jacobian A and B matrix at the equilibrium point (-1,1) and assign them to A and B respectively.\n",
        "    2. Compute the LQR gain using the lqr() function from the control module.\n",
        "    3. Assign the value of the gain matrix to the variable K.\n",
        "    '''\n",
        "\n",
        "    # Define the Q and R matrices\n",
        "    Q = np.eye(2)  # State weighting matrix\n",
        "    R = np.array([[1]])  # Control weighting matrix\n",
        "\n",
        "    # Find the index of the equilibrium point (-1, 1)\n",
        "    eq_point = (-1, 1)\n",
        "    index = None\n",
        "    for i, eq in enumerate(jacobians_A):\n",
        "        if eq_point in jacobians_A[i].subs({x1: -1, x2: 1}):\n",
        "            index = i\n",
        "            break\n",
        "\n",
        "    if index is not None:\n",
        "        # Select the Jacobian A and B matrices corresponding to the equilibrium point (-1, 1)\n",
        "        A = np.array(jacobians_A[index]).astype(np.float64)\n",
        "        B = np.array(jacobians_B[index]).astype(np.float64)\n",
        "\n",
        "        # Compute the LQR gain matrix K using the control library\n",
        "        K, S, E = ctrl.lqr(A, B, Q, R)\n",
        "    else:\n",
        "        print(\"Unstable equilibrium point (-1, 1) not found.\")\n",
        "\n",
        "    return K\n"
      ],
      "metadata": {
        "id": "LeNusCQBZ9YL"
      },
      "execution_count": 18,
      "outputs": []
    },
    {
      "cell_type": "code",
      "source": [],
      "metadata": {
        "id": "1MyzEJ_Haknb"
      },
      "execution_count": 18,
      "outputs": []
    }
  ]
}